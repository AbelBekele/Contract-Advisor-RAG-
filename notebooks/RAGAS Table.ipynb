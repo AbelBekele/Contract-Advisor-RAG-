{
 "cells": [
  {
   "cell_type": "code",
   "execution_count": 20,
   "metadata": {},
   "outputs": [
    {
     "name": "stdout",
     "output_type": "stream",
     "text": [
      "Collecting ragas==0.0.22\n",
      "  Downloading ragas-0.0.22-py3-none-any.whl (52 kB)\n",
      "\u001b[2K     \u001b[90m━━━━━━━━━━━━━━━━━━━━━━━━━━━━━━━━━━━━━━━\u001b[0m \u001b[32m52.4/52.4 kB\u001b[0m \u001b[31m268.0 kB/s\u001b[0m eta \u001b[36m0:00:00\u001b[0m00:01\u001b[0m00:01\u001b[0m\n",
      "\u001b[?25hRequirement already satisfied: langchain_openai in /root/Contract-Advisor-RAG-/.venv/lib/python3.11/site-packages (0.0.6)\n",
      "Requirement already satisfied: python-dotenv in /root/Contract-Advisor-RAG-/.venv/lib/python3.11/site-packages (1.0.1)\n",
      "Requirement already satisfied: numpy in /root/Contract-Advisor-RAG-/.venv/lib/python3.11/site-packages (from ragas==0.0.22) (1.26.4)\n",
      "Requirement already satisfied: datasets in /root/Contract-Advisor-RAG-/.venv/lib/python3.11/site-packages (from ragas==0.0.22) (2.17.1)\n",
      "Requirement already satisfied: tiktoken in /root/Contract-Advisor-RAG-/.venv/lib/python3.11/site-packages (from ragas==0.0.22) (0.6.0)\n",
      "Requirement already satisfied: langchain in /root/Contract-Advisor-RAG-/.venv/lib/python3.11/site-packages (from ragas==0.0.22) (0.1.8)\n",
      "Requirement already satisfied: openai>1 in /root/Contract-Advisor-RAG-/.venv/lib/python3.11/site-packages (from ragas==0.0.22) (1.12.0)\n",
      "Requirement already satisfied: pysbd>=0.3.4 in /root/Contract-Advisor-RAG-/.venv/lib/python3.11/site-packages (from ragas==0.0.22) (0.3.4)\n",
      "Requirement already satisfied: nest-asyncio in /root/Contract-Advisor-RAG-/.venv/lib/python3.11/site-packages (from ragas==0.0.22) (1.6.0)\n",
      "Requirement already satisfied: langchain-core<0.2,>=0.1.16 in /root/Contract-Advisor-RAG-/.venv/lib/python3.11/site-packages (from langchain_openai) (0.1.25)\n",
      "Requirement already satisfied: PyYAML>=5.3 in /root/Contract-Advisor-RAG-/.venv/lib/python3.11/site-packages (from langchain-core<0.2,>=0.1.16->langchain_openai) (6.0.1)\n",
      "Requirement already satisfied: anyio<5,>=3 in /root/Contract-Advisor-RAG-/.venv/lib/python3.11/site-packages (from langchain-core<0.2,>=0.1.16->langchain_openai) (4.3.0)\n",
      "Requirement already satisfied: jsonpatch<2.0,>=1.33 in /root/Contract-Advisor-RAG-/.venv/lib/python3.11/site-packages (from langchain-core<0.2,>=0.1.16->langchain_openai) (1.33)\n",
      "Requirement already satisfied: langsmith<0.2.0,>=0.1.0 in /root/Contract-Advisor-RAG-/.venv/lib/python3.11/site-packages (from langchain-core<0.2,>=0.1.16->langchain_openai) (0.1.4)\n",
      "Requirement already satisfied: packaging<24.0,>=23.2 in /root/Contract-Advisor-RAG-/.venv/lib/python3.11/site-packages (from langchain-core<0.2,>=0.1.16->langchain_openai) (23.2)\n",
      "Requirement already satisfied: pydantic<3,>=1 in /root/Contract-Advisor-RAG-/.venv/lib/python3.11/site-packages (from langchain-core<0.2,>=0.1.16->langchain_openai) (2.6.1)\n",
      "Requirement already satisfied: requests<3,>=2 in /root/Contract-Advisor-RAG-/.venv/lib/python3.11/site-packages (from langchain-core<0.2,>=0.1.16->langchain_openai) (2.31.0)\n",
      "Requirement already satisfied: tenacity<9.0.0,>=8.1.0 in /root/Contract-Advisor-RAG-/.venv/lib/python3.11/site-packages (from langchain-core<0.2,>=0.1.16->langchain_openai) (8.2.3)\n",
      "Requirement already satisfied: distro<2,>=1.7.0 in /root/Contract-Advisor-RAG-/.venv/lib/python3.11/site-packages (from openai>1->ragas==0.0.22) (1.9.0)\n",
      "Requirement already satisfied: httpx<1,>=0.23.0 in /root/Contract-Advisor-RAG-/.venv/lib/python3.11/site-packages (from openai>1->ragas==0.0.22) (0.26.0)\n",
      "Requirement already satisfied: sniffio in /root/Contract-Advisor-RAG-/.venv/lib/python3.11/site-packages (from openai>1->ragas==0.0.22) (1.3.0)\n",
      "Requirement already satisfied: tqdm>4 in /root/Contract-Advisor-RAG-/.venv/lib/python3.11/site-packages (from openai>1->ragas==0.0.22) (4.66.2)\n",
      "Requirement already satisfied: typing-extensions<5,>=4.7 in /root/Contract-Advisor-RAG-/.venv/lib/python3.11/site-packages (from openai>1->ragas==0.0.22) (4.9.0)\n",
      "Requirement already satisfied: regex>=2022.1.18 in /root/Contract-Advisor-RAG-/.venv/lib/python3.11/site-packages (from tiktoken->ragas==0.0.22) (2023.12.25)\n",
      "Requirement already satisfied: filelock in /root/Contract-Advisor-RAG-/.venv/lib/python3.11/site-packages (from datasets->ragas==0.0.22) (3.13.1)\n",
      "Requirement already satisfied: pyarrow>=12.0.0 in /root/Contract-Advisor-RAG-/.venv/lib/python3.11/site-packages (from datasets->ragas==0.0.22) (15.0.0)\n",
      "Requirement already satisfied: pyarrow-hotfix in /root/Contract-Advisor-RAG-/.venv/lib/python3.11/site-packages (from datasets->ragas==0.0.22) (0.6)\n",
      "Requirement already satisfied: dill<0.3.9,>=0.3.0 in /root/Contract-Advisor-RAG-/.venv/lib/python3.11/site-packages (from datasets->ragas==0.0.22) (0.3.8)\n",
      "Requirement already satisfied: pandas in /root/Contract-Advisor-RAG-/.venv/lib/python3.11/site-packages (from datasets->ragas==0.0.22) (2.2.0)\n",
      "Requirement already satisfied: xxhash in /root/Contract-Advisor-RAG-/.venv/lib/python3.11/site-packages (from datasets->ragas==0.0.22) (3.4.1)\n",
      "Requirement already satisfied: multiprocess in /root/Contract-Advisor-RAG-/.venv/lib/python3.11/site-packages (from datasets->ragas==0.0.22) (0.70.16)\n",
      "Requirement already satisfied: fsspec[http]<=2023.10.0,>=2023.1.0 in /root/Contract-Advisor-RAG-/.venv/lib/python3.11/site-packages (from datasets->ragas==0.0.22) (2023.10.0)\n",
      "Requirement already satisfied: aiohttp in /root/Contract-Advisor-RAG-/.venv/lib/python3.11/site-packages (from datasets->ragas==0.0.22) (3.9.3)\n",
      "Requirement already satisfied: huggingface-hub>=0.19.4 in /root/Contract-Advisor-RAG-/.venv/lib/python3.11/site-packages (from datasets->ragas==0.0.22) (0.20.3)\n",
      "Requirement already satisfied: SQLAlchemy<3,>=1.4 in /root/Contract-Advisor-RAG-/.venv/lib/python3.11/site-packages (from langchain->ragas==0.0.22) (2.0.27)\n",
      "Requirement already satisfied: dataclasses-json<0.7,>=0.5.7 in /root/Contract-Advisor-RAG-/.venv/lib/python3.11/site-packages (from langchain->ragas==0.0.22) (0.6.4)\n",
      "Requirement already satisfied: langchain-community<0.1,>=0.0.21 in /root/Contract-Advisor-RAG-/.venv/lib/python3.11/site-packages (from langchain->ragas==0.0.22) (0.0.21)\n",
      "Requirement already satisfied: aiosignal>=1.1.2 in /root/Contract-Advisor-RAG-/.venv/lib/python3.11/site-packages (from aiohttp->datasets->ragas==0.0.22) (1.3.1)\n",
      "Requirement already satisfied: attrs>=17.3.0 in /root/Contract-Advisor-RAG-/.venv/lib/python3.11/site-packages (from aiohttp->datasets->ragas==0.0.22) (23.2.0)\n",
      "Requirement already satisfied: frozenlist>=1.1.1 in /root/Contract-Advisor-RAG-/.venv/lib/python3.11/site-packages (from aiohttp->datasets->ragas==0.0.22) (1.4.1)\n",
      "Requirement already satisfied: multidict<7.0,>=4.5 in /root/Contract-Advisor-RAG-/.venv/lib/python3.11/site-packages (from aiohttp->datasets->ragas==0.0.22) (6.0.5)\n",
      "Requirement already satisfied: yarl<2.0,>=1.0 in /root/Contract-Advisor-RAG-/.venv/lib/python3.11/site-packages (from aiohttp->datasets->ragas==0.0.22) (1.9.4)\n",
      "Requirement already satisfied: idna>=2.8 in /root/Contract-Advisor-RAG-/.venv/lib/python3.11/site-packages (from anyio<5,>=3->langchain-core<0.2,>=0.1.16->langchain_openai) (3.6)\n",
      "Requirement already satisfied: marshmallow<4.0.0,>=3.18.0 in /root/Contract-Advisor-RAG-/.venv/lib/python3.11/site-packages (from dataclasses-json<0.7,>=0.5.7->langchain->ragas==0.0.22) (3.20.2)\n",
      "Requirement already satisfied: typing-inspect<1,>=0.4.0 in /root/Contract-Advisor-RAG-/.venv/lib/python3.11/site-packages (from dataclasses-json<0.7,>=0.5.7->langchain->ragas==0.0.22) (0.9.0)\n",
      "Requirement already satisfied: certifi in /root/Contract-Advisor-RAG-/.venv/lib/python3.11/site-packages (from httpx<1,>=0.23.0->openai>1->ragas==0.0.22) (2024.2.2)\n",
      "Requirement already satisfied: httpcore==1.* in /root/Contract-Advisor-RAG-/.venv/lib/python3.11/site-packages (from httpx<1,>=0.23.0->openai>1->ragas==0.0.22) (1.0.3)\n",
      "Requirement already satisfied: h11<0.15,>=0.13 in /root/Contract-Advisor-RAG-/.venv/lib/python3.11/site-packages (from httpcore==1.*->httpx<1,>=0.23.0->openai>1->ragas==0.0.22) (0.14.0)\n",
      "Requirement already satisfied: jsonpointer>=1.9 in /root/Contract-Advisor-RAG-/.venv/lib/python3.11/site-packages (from jsonpatch<2.0,>=1.33->langchain-core<0.2,>=0.1.16->langchain_openai) (2.4)\n",
      "Requirement already satisfied: annotated-types>=0.4.0 in /root/Contract-Advisor-RAG-/.venv/lib/python3.11/site-packages (from pydantic<3,>=1->langchain-core<0.2,>=0.1.16->langchain_openai) (0.6.0)\n",
      "Requirement already satisfied: pydantic-core==2.16.2 in /root/Contract-Advisor-RAG-/.venv/lib/python3.11/site-packages (from pydantic<3,>=1->langchain-core<0.2,>=0.1.16->langchain_openai) (2.16.2)\n",
      "Requirement already satisfied: charset-normalizer<4,>=2 in /root/Contract-Advisor-RAG-/.venv/lib/python3.11/site-packages (from requests<3,>=2->langchain-core<0.2,>=0.1.16->langchain_openai) (3.3.2)\n",
      "Requirement already satisfied: urllib3<3,>=1.21.1 in /root/Contract-Advisor-RAG-/.venv/lib/python3.11/site-packages (from requests<3,>=2->langchain-core<0.2,>=0.1.16->langchain_openai) (2.2.1)\n",
      "Requirement already satisfied: greenlet!=0.4.17 in /root/Contract-Advisor-RAG-/.venv/lib/python3.11/site-packages (from SQLAlchemy<3,>=1.4->langchain->ragas==0.0.22) (3.0.3)\n",
      "Requirement already satisfied: python-dateutil>=2.8.2 in /root/Contract-Advisor-RAG-/.venv/lib/python3.11/site-packages (from pandas->datasets->ragas==0.0.22) (2.8.2)\n",
      "Requirement already satisfied: pytz>=2020.1 in /root/Contract-Advisor-RAG-/.venv/lib/python3.11/site-packages (from pandas->datasets->ragas==0.0.22) (2024.1)\n",
      "Requirement already satisfied: tzdata>=2022.7 in /root/Contract-Advisor-RAG-/.venv/lib/python3.11/site-packages (from pandas->datasets->ragas==0.0.22) (2024.1)\n",
      "Requirement already satisfied: six>=1.5 in /root/Contract-Advisor-RAG-/.venv/lib/python3.11/site-packages (from python-dateutil>=2.8.2->pandas->datasets->ragas==0.0.22) (1.16.0)\n",
      "Requirement already satisfied: mypy-extensions>=0.3.0 in /root/Contract-Advisor-RAG-/.venv/lib/python3.11/site-packages (from typing-inspect<1,>=0.4.0->dataclasses-json<0.7,>=0.5.7->langchain->ragas==0.0.22) (1.0.0)\n",
      "Installing collected packages: ragas\n",
      "  Attempting uninstall: ragas\n",
      "    Found existing installation: ragas 0.1.1\n",
      "    Uninstalling ragas-0.1.1:\n",
      "      Successfully uninstalled ragas-0.1.1\n",
      "Successfully installed ragas-0.0.22\n"
     ]
    }
   ],
   "source": [
    "# !pip install ragas==0.0.22 langchain_openai python-dotenv"
   ]
  },
  {
   "cell_type": "code",
   "execution_count": 1,
   "metadata": {},
   "outputs": [],
   "source": [
    "# attach to the existing event loop when using jupyter notebooks\n",
    "import nest_asyncio\n",
    "import os\n",
    "import openai\n",
    "from dotenv import load_dotenv\n",
    "\n",
    "# Load environment variables from .env file\n",
    "load_dotenv()\n",
    "# IMPORTANT: Remember to create a .env variable containing: OPENAI_API_KEY=sk-xyz where xyz is your key\n",
    "\n",
    "# Access the API key from the environment variable\n",
    "api_key = os.environ.get(\"OPENAI_API_KEY\")\n",
    "\n",
    "# Initialize the OpenAI API client\n",
    "openai.api_key = api_key\n",
    "\n",
    "nest_asyncio.apply()"
   ]
  },
  {
   "cell_type": "code",
   "execution_count": 2,
   "metadata": {},
   "outputs": [
    {
     "name": "stderr",
     "output_type": "stream",
     "text": [
      "/root/Contract-Advisor-RAG-/.venv/lib/python3.11/site-packages/langchain_core/_api/deprecation.py:117: LangChainDeprecationWarning: The class `langchain_community.embeddings.openai.OpenAIEmbeddings` was deprecated in langchain-community 0.1.0 and will be removed in 0.2.0. An updated version of the class exists in the langchain-openai package and should be used instead. To use it run `pip install -U langchain-openai` and import as `from langchain_openai import OpenAIEmbeddings`.\n",
      "  warn_deprecated(\n"
     ]
    }
   ],
   "source": [
    "from langchain.document_loaders import TextLoader\n",
    "from langchain.indexes import VectorstoreIndexCreator\n",
    "from langchain.chains import RetrievalQA\n",
    "from langchain_openai import ChatOpenAI\n",
    "from langchain_community.vectorstores import Milvus\n",
    "from langchain_openai import OpenAIEmbeddings\n",
    "from langchain.text_splitter import CharacterTextSplitter\n",
    "\n",
    "loader = TextLoader(\"../data/Robinson_Advisory.txt\", encoding=\"windows-1252\")\n",
    "index = VectorstoreIndexCreator().from_loaders([loader])\n",
    "\n",
    "\n",
    "text_splitter = CharacterTextSplitter.from_tiktoken_encoder(\n",
    "    chunk_size=1024, chunk_overlap=0\n",
    ")\n",
    "documents = loader.load_and_split()\n",
    "# texts = text_splitter.split_text(document)\n",
    "docs = text_splitter.split_documents(documents)"
   ]
  },
  {
   "cell_type": "code",
   "execution_count": null,
   "metadata": {},
   "outputs": [],
   "source": []
  },
  {
   "cell_type": "code",
   "execution_count": 3,
   "metadata": {},
   "outputs": [],
   "source": [
    "embeddings = OpenAIEmbeddings()\n",
    "\n",
    "vector_db = Milvus.from_documents(\n",
    "    docs,\n",
    "    embeddings,\n",
    "    collection_name=\"contract\",\n",
    "    connection_args={\"host\": \"127.0.0.1\", \"port\": \"19530\", \"database\": \"contract\"},\n",
    ")\n",
    "vector_db = Milvus(\n",
    "    embeddings,\n",
    "    connection_args={\"host\": \"127.0.0.1\", \"port\": \"19530\"},\n",
    "    collection_name=\"contract\",\n",
    ")\n"
   ]
  },
  {
   "cell_type": "code",
   "execution_count": 4,
   "metadata": {},
   "outputs": [],
   "source": [
    "llm = ChatOpenAI(temperature=0)\n",
    "qa_chain = RetrievalQA.from_chain_type(\n",
    "    llm,\n",
    "    retriever=vector_db.as_retriever(), \n",
    "    return_source_documents=True,\n",
    ")"
   ]
  },
  {
   "cell_type": "code",
   "execution_count": 5,
   "metadata": {},
   "outputs": [
    {
     "name": "stderr",
     "output_type": "stream",
     "text": [
      "/root/Contract-Advisor-RAG-/.venv/lib/python3.11/site-packages/langchain_core/_api/deprecation.py:117: LangChainDeprecationWarning: The function `__call__` was deprecated in LangChain 0.1.0 and will be removed in 0.2.0. Use invoke instead.\n",
      "  warn_deprecated(\n"
     ]
    },
    {
     "data": {
      "text/plain": [
       "'The parties to the Agreement are the Sellers and the Buyer. Their defined names are not explicitly mentioned in the provided context.'"
      ]
     },
     "execution_count": 5,
     "metadata": {},
     "output_type": "execute_result"
    }
   ],
   "source": [
    "# testing it out\n",
    "\n",
    "question = \"Who are the parties to the Agreement and what are their defined names?\"\n",
    "result = qa_chain({\"query\": question})\n",
    "result[\"result\"]"
   ]
  },
  {
   "cell_type": "code",
   "execution_count": 6,
   "metadata": {},
   "outputs": [],
   "source": [
    "eval_questions = [\n",
    "    \"Who are the parties to the Agreement and what are their defined names?\",\n",
    "    \"What is the termination notice?\",\n",
    "    \" What are the payments to the Advisor under the Agreement?\",\n",
    "    \"Can the Agreement or any of its obligations be assigned?\",\n",
    "    \"Who owns the IP?\",\n",
    "    \"Is there a non-compete obligation to the Advisor?\",\n",
    "    \"Can the Advisor charge for meal time?\",\n",
    "    \"In which street does the Advisor live?\",\n",
    "    \"Is the Advisor entitled to social benefits?\",\n",
    "    \"What happens if the Advisor claims compensation based on employment relationship with the Company?\",\n",
    "]\n",
    "\n",
    "eval_answers = [\n",
    "    \"Cloud Investments Ltd. (“Company”) and Jack Robinson (“Advisor”)\",\n",
    "    \"According to section 4:14 days for convenience by both parties. The Company may terminate without notice if the Advisor refuses or cannot perform the Services or is in breach of any provision of this Agreement.\",\n",
    "    \" According to section 6: 1. Fees of $9 per hour up to a monthly limit of $1,500, 2. Workspace expense of $100 per month, 3. Other reasonable and actual expenses if approved by the company in writing and in advance.\",\n",
    "    \"1. Under section 1.1 the Advisor can’t assign any of his obligations without the prior written consent of the Company, 2. Under section 9 the Advisor may not assign the Agreement and the Company may assign it, 3 Under section 9 of the Undertaking the Company may assign the Undertaking.\",\n",
    "    \"According to section 4 of the Undertaking (Appendix A), Any Work Product, upon creation, shall be fully and exclusively owned by the Company.\",\n",
    "    \"Yes. During the term of engagement with the Company and for a period of 12 months thereafter.\",\n",
    "    \"No. See Section 6.1, Billable Hour doesn’t include meals or travel time.\",\n",
    "    \"1 Rabin st, Tel Aviv, Israel\",\n",
    "    \"No. According to section 8 of the Agreement, the Advisor is an independent consultant and shall not be entitled to any overtime pay, insurance, paid vacation, severance payments or similar fringe or employment benefits from the Company.\",\n",
    "    \" If the Advisor is determined to be an employee of the Company by a governmental authority, payments to the Advisor will be retroactively reduced so that 60% constitutes salary payments and 40% constitutes payment for statutory rights and benefits. The Company may offset any amounts due to the Advisor from any amounts payable under the Agreement. The Advisor must indemnify the Company for any losses or expenses incurred if an employer/employee relationship is determined to exist.\",\n",
    "]\n",
    "\n",
    "examples = [\n",
    "    {\"query\": q, \"ground_truths\": [eval_answers[i]]}\n",
    "    for i, q in enumerate(eval_questions)\n",
    "]"
   ]
  },
  {
   "cell_type": "code",
   "execution_count": 7,
   "metadata": {},
   "outputs": [
    {
     "data": {
      "text/plain": [
       "\"The termination notice required in this agreement is fourteen (14) days' prior written notice.\""
      ]
     },
     "execution_count": 7,
     "metadata": {},
     "output_type": "execute_result"
    }
   ],
   "source": [
    "result = qa_chain({\"query\": eval_questions[1]})\n",
    "result[\"result\"]"
   ]
  },
  {
   "cell_type": "code",
   "execution_count": 8,
   "metadata": {},
   "outputs": [
    {
     "data": {
      "text/plain": [
       "'Based on the provided context, it is stated that all Intellectual Property and Technology were developed at private expense, and no Institutions have obtained rights that would affect the commercial value of the IP. Therefore, the Acquired Company or its employees, former employees, contractors, or consultants who developed the Intellectual Property own the IP.'"
      ]
     },
     "execution_count": 8,
     "metadata": {},
     "output_type": "execute_result"
    }
   ],
   "source": [
    "result = qa_chain(examples[4])\n",
    "result[\"result\"]"
   ]
  },
  {
   "cell_type": "code",
   "execution_count": 9,
   "metadata": {},
   "outputs": [
    {
     "name": "stderr",
     "output_type": "stream",
     "text": [
      "/root/Contract-Advisor-RAG-/.venv/lib/python3.11/site-packages/tqdm/auto.py:21: TqdmWarning: IProgress not found. Please update jupyter and ipywidgets. See https://ipywidgets.readthedocs.io/en/stable/user_install.html\n",
      "  from .autonotebook import tqdm as notebook_tqdm\n"
     ]
    }
   ],
   "source": [
    "from ragas.langchain.evalchain import RagasEvaluatorChain\n",
    "from ragas.metrics import (\n",
    "    faithfulness,\n",
    "    answer_relevancy,\n",
    "    context_precision,\n",
    "    context_recall,\n",
    ")\n",
    "\n",
    "# create evaluation chains\n",
    "faithfulness_chain = RagasEvaluatorChain(metric=faithfulness)\n",
    "answer_rel_chain = RagasEvaluatorChain(metric=answer_relevancy)\n",
    "context_rel_chain = RagasEvaluatorChain(metric=context_precision)\n",
    "context_recall_chain = RagasEvaluatorChain(metric=context_recall)"
   ]
  },
  {
   "cell_type": "code",
   "execution_count": 10,
   "metadata": {},
   "outputs": [
    {
     "data": {
      "text/plain": [
       "{'query': 'Who owns the IP?',\n",
       " 'ground_truths': ['According to section 4 of the Undertaking (Appendix A), Any Work Product, upon creation, shall be fully and exclusively owned by the Company.'],\n",
       " 'result': \"The IP, which includes any Work Product created, is fully and exclusively owned by the Company according to the terms of the Undertaking. The Advisor is required to sign any document or perform any action needed to formalize the Company's ownership of the IP.\",\n",
       " 'source_documents': [Document(page_content='-  4- \\n \\nConfidentiality, None Compete and IP Ownership Undertaking  \\nAppendix A to Advisory Service Agreement  as of June  15th, 2023  \\n \\nTHIS CONFIDENTIALITY UNDERTAKING (“ Undertaking ”) is entered into as of June  15th, 2023 (“ Effective Date ”), by Mr. Jack Robinson,  \\nPassport Number 780055578 , residing at 1 Rabin st , Tel Aviv, Israel, Email: jackrobinson@gmail.com , (“Advisor ”), towards Cloud  Investments \\nLtd (“ Company ”), as follows:  \\n1. Defin itions:  (a) Company’s Business:  development of an AI -based contract assistant. (b) Services:  Software development services and/or \\nany other services provided by the Advisor to the Company. (c) Work Product:  Any product of the Services, tangible and/or intangible, \\nincluding any inventions, discoveries and/or other intellectual property. (d) Confidential Information: any information disclosed by the \\nCompany to the Advisor and/or created as a result of the Services (including Work Product), of any type, form (including orally) or media, \\nincluding (without limitation), code, specifications, architecture, design, data, algorithms, business plans, budget, custome rs / suppliers lists \\netc.), but excluding information which prior to the disclosure was publicly available or known to the Advisor (both without breach of any \\nconfidentiality obligation towards the Company).  \\n \\n2. Use :  The Advisor may use the Confidential Information only for the purpose of providing the Services  and shall not obtain any rights in it. \\nThe Advisor shall stop using Confidential Information and/or return it to the Company and/or destroy it immediately upon Company’s \\nrequest. The Advisor may disclose Confidential Information in case this is required by law, but only to the extent required and after providing the Company a prompt written notice and subject to promptly cooperate with the Company in seeking a protective orde r.  \\n \\n3. Safeguard:  The Advisor shall safeguard the Confidential Information, keep it in strict confidence and shall not disclose it to any third party \\nwithout the prior written consent of the Company.  \\n \\n4. IP: Any Work Product, upon creation, shall be fully and exclusively owned by the Company.  The Advisor, immediately upon Company’s \\nrequest, shall sign any document and/or perform any action needed to formalize such ownership. The Advisor shall not obtain a ny rights in \\nthe Work Product, including moral rights and/or rights for royalties or other  consideration under any applicable law (including Section 134 \\nof the Israeli Patent Law – 1967 if applicable), and shall not be entitled to any compensation with respect to the Services, which was not \\nspecifically agreed, in writing, between the Advisor and the Company.  \\n \\n5. No n -Compete : During the term of engagement with the Company and for a period of 12 months thereafter, Advisor shall not be involved, \\nas an employee, owner, contractor or otherwise, in any business, which competes with the Company’s Business, and shall not solicit and/or hire any employee and/or service provider of the Company, without the prior written consent of the Company.  \\n \\n6. P\\nersonnel:  The Advisor may provide the Services only directly or through employees, contractors or agents (“Personnel”), which were \\nspecifically approved by the Company, and have committed in writing to confidentiality and ownership rights towards the Advis or and/or \\nthe Company, in a form restrictive enough to allow Advisor to comply and enforce the commitments under t his undertaking (“Authorized \\nPersonnel”). Without limiting the foregoing, the Advisor is liable hereunder for any breach of this undertaking by any Adviso r Personnel.  \\n \\n7. T hird Parties:  The Advisor represents that the performance of the Services and the terms of this Undertaking, do not and will not breach \\nany right, contractual or other, of any employer, customer or other third party. Advisor acknowledges that the Company is rel ying upon the', metadata={'source': '../data/Robinson_Advisory.pdf'}),\n",
       "  Document(page_content='3. Safeguard: The Advisor shall safeguard the Confidential Information, keep it in strict confidence and shall not disclose it to any third party without the prior written consent of the Company.\\n\\n4. IP: Any Work Product, upon creation, shall be fully and exclusively owned by the Company. The Advisor, immediately upon Company’s request, shall sign any document and/or perform any action needed to formalize such ownership. The Advisor shall not obtain any rights in the Work Product, including moral rights and/or rights for royalties or other consideration under any applicable law (including Section 134 of the Israeli Patent Law – 1967 if applicable), and shall not be entitled to any compensation with respect to the Services, which was not specifically agreed, in writing, between the Advisor and the Company.\\n\\n5. Non-Compete: During the term of engagement with the Company and for a period of 12 months thereafter, Advisor shall not be involved, as an employee, owner, contractor or otherwise, in any business, which competes with the Company’s Business, and shall not solicit and/or hire any employee and/or service provider of the Company, without the prior written consent of the Company.\\n\\n6. Personnel: The Advisor may provide the Services only directly or through employees, contractors or agents (“Personnel”), which were specifically approved by the Company, and have committed in writing to confidentiality and ownership rights towards the Advisor and/or the Company, in a form restrictive enough to allow Advisor to comply and enforce the commitments under this undertaking (“Authorized Personnel”). Without limiting the foregoing, the Advisor is liable hereunder for any breach of this undertaking by any Advisor Personnel.\\n\\n7. Third Parties: The Advisor represents that the performance of the Services and the terms of this Undertaking, do not and will not breach any right, contractual or other, of any employer, customer or other third party. Advisor acknowledges that the Company is relying upon the truthfulness and accuracy of such representations in engaging with the Advisor. Advisor specifically undertakes not to use any proprietary and/or confidential information belonging to the Advisor and/or any third party while performing the Services and in case any Advisor proprietary or confidential information is used, such information will be automatically assigned to the Company and become its full and exclusive property.\\n\\n8. Jurisdiction: This Undertaking shall be governed by and construed in accordance with the laws of the State of Israel, without giving effect to its laws pertaining to conflict of laws.\\xa0 The Advisor agrees that any and all disputes in connection with this Undertaking shall be submitted to the exclusive jurisdiction of the competent courts in the city of Tel Aviv-Yafo, Israel.\\n\\n9. Pre-Undertaking: In case the Advisor has been providing Services to the Company before the Effective Date (“Pre-Undertaking Period”), this Undertaking shall also apply to the Pre-Undertaking Period, including, if relevant, before Company’s incorporation. The Company may assign this undertaking to third parties.\\nIN WITNESS WHEREOF, the undersigned has executed this Undertaking as of the Effective Date.\\nAdvisor\\n\\nBy: _____________________________________\\n\\nName: Jack Robinson\\n\\n\\n      \\n\\n- 2-', metadata={'source': '../data/Robinson_Advisory.txt'}),\n",
       "  Document(page_content='3. Safeguard: The Advisor shall safeguard the Confidential Information, keep it in strict confidence and shall not disclose it to any third party without the prior written consent of the Company.\\n\\n4. IP: Any Work Product, upon creation, shall be fully and exclusively owned by the Company. The Advisor, immediately upon Company’s request, shall sign any document and/or perform any action needed to formalize such ownership. The Advisor shall not obtain any rights in the Work Product, including moral rights and/or rights for royalties or other consideration under any applicable law (including Section 134 of the Israeli Patent Law – 1967 if applicable), and shall not be entitled to any compensation with respect to the Services, which was not specifically agreed, in writing, between the Advisor and the Company.\\n\\n5. Non-Compete: During the term of engagement with the Company and for a period of 12 months thereafter, Advisor shall not be involved, as an employee, owner, contractor or otherwise, in any business, which competes with the Company’s Business, and shall not solicit and/or hire any employee and/or service provider of the Company, without the prior written consent of the Company.\\n\\n6. Personnel: The Advisor may provide the Services only directly or through employees, contractors or agents (“Personnel”), which were specifically approved by the Company, and have committed in writing to confidentiality and ownership rights towards the Advisor and/or the Company, in a form restrictive enough to allow Advisor to comply and enforce the commitments under this undertaking (“Authorized Personnel”). Without limiting the foregoing, the Advisor is liable hereunder for any breach of this undertaking by any Advisor Personnel.\\n\\n7. Third Parties: The Advisor represents that the performance of the Services and the terms of this Undertaking, do not and will not breach any right, contractual or other, of any employer, customer or other third party. Advisor acknowledges that the Company is relying upon the truthfulness and accuracy of such representations in engaging with the Advisor. Advisor specifically undertakes not to use any proprietary and/or confidential information belonging to the Advisor and/or any third party while performing the Services and in case any Advisor proprietary or confidential information is used, such information will be automatically assigned to the Company and become its full and exclusive property.\\n\\n8. Jurisdiction: This Undertaking shall be governed by and construed in accordance with the laws of the State of Israel, without giving effect to its laws pertaining to conflict of laws.\\xa0 The Advisor agrees that any and all disputes in connection with this Undertaking shall be submitted to the exclusive jurisdiction of the competent courts in the city of Tel Aviv-Yafo, Israel.\\n\\n9. Pre-Undertaking: In case the Advisor has been providing Services to the Company before the Effective Date (“Pre-Undertaking Period”), this Undertaking shall also apply to the Pre-Undertaking Period, including, if relevant, before Company’s incorporation. The Company may assign this undertaking to third parties.\\nIN WITNESS WHEREOF, the undersigned has executed this Undertaking as of the Effective Date.\\nAdvisor\\n\\nBy: _____________________________________\\n\\nName: Jack Robinson\\n\\n\\n      \\n\\n- 2-', metadata={'source': '../data/Robinson_Advisory.txt'}),\n",
       "  Document(page_content='3. Safeguard: The Advisor shall safeguard the Confidential Information, keep it in strict confidence and shall not disclose it to any third party without the prior written consent of the Company.\\n\\n4. IP: Any Work Product, upon creation, shall be fully and exclusively owned by the Company. The Advisor, immediately upon Company’s request, shall sign any document and/or perform any action needed to formalize such ownership. The Advisor shall not obtain any rights in the Work Product, including moral rights and/or rights for royalties or other consideration under any applicable law (including Section 134 of the Israeli Patent Law – 1967 if applicable), and shall not be entitled to any compensation with respect to the Services, which was not specifically agreed, in writing, between the Advisor and the Company.\\n\\n5. Non-Compete: During the term of engagement with the Company and for a period of 12 months thereafter, Advisor shall not be involved, as an employee, owner, contractor or otherwise, in any business, which competes with the Company’s Business, and shall not solicit and/or hire any employee and/or service provider of the Company, without the prior written consent of the Company.\\n\\n6. Personnel: The Advisor may provide the Services only directly or through employees, contractors or agents (“Personnel”), which were specifically approved by the Company, and have committed in writing to confidentiality and ownership rights towards the Advisor and/or the Company, in a form restrictive enough to allow Advisor to comply and enforce the commitments under this undertaking (“Authorized Personnel”). Without limiting the foregoing, the Advisor is liable hereunder for any breach of this undertaking by any Advisor Personnel.\\n\\n7. Third Parties: The Advisor represents that the performance of the Services and the terms of this Undertaking, do not and will not breach any right, contractual or other, of any employer, customer or other third party. Advisor acknowledges that the Company is relying upon the truthfulness and accuracy of such representations in engaging with the Advisor. Advisor specifically undertakes not to use any proprietary and/or confidential information belonging to the Advisor and/or any third party while performing the Services and in case any Advisor proprietary or confidential information is used, such information will be automatically assigned to the Company and become its full and exclusive property.\\n\\n8. Jurisdiction: This Undertaking shall be governed by and construed in accordance with the laws of the State of Israel, without giving effect to its laws pertaining to conflict of laws.\\xa0 The Advisor agrees that any and all disputes in connection with this Undertaking shall be submitted to the exclusive jurisdiction of the competent courts in the city of Tel Aviv-Yafo, Israel.\\n\\n9. Pre-Undertaking: In case the Advisor has been providing Services to the Company before the Effective Date (“Pre-Undertaking Period”), this Undertaking shall also apply to the Pre-Undertaking Period, including, if relevant, before Company’s incorporation. The Company may assign this undertaking to third parties.\\nIN WITNESS WHEREOF, the undersigned has executed this Undertaking as of the Effective Date.\\nAdvisor\\n\\nBy: _____________________________________\\n\\nName: Jack Robinson\\n\\n\\n      \\n\\n- 2-', metadata={'source': '../data/Robinson_Advisory.txt'})]}"
      ]
     },
     "execution_count": 10,
     "metadata": {},
     "output_type": "execute_result"
    }
   ],
   "source": [
    "# Recheck the result that we are going to validate.\n",
    "result"
   ]
  },
  {
   "cell_type": "code",
   "execution_count": 11,
   "metadata": {},
   "outputs": [
    {
     "data": {
      "text/plain": [
       "1.0"
      ]
     },
     "execution_count": 11,
     "metadata": {},
     "output_type": "execute_result"
    }
   ],
   "source": [
    "eval_result = faithfulness_chain(result)\n",
    "eval_result[\"faithfulness_score\"]"
   ]
  },
  {
   "cell_type": "code",
   "execution_count": 12,
   "metadata": {},
   "outputs": [
    {
     "data": {
      "text/plain": [
       "0.0"
      ]
     },
     "execution_count": 12,
     "metadata": {},
     "output_type": "execute_result"
    }
   ],
   "source": [
    "fake_result = result.copy()\n",
    "fake_result[\"result\"] = \"we are the champions\"\n",
    "eval_result = faithfulness_chain(fake_result)\n",
    "eval_result[\"faithfulness_score\"]"
   ]
  },
  {
   "cell_type": "code",
   "execution_count": 13,
   "metadata": {},
   "outputs": [
    {
     "data": {
      "text/plain": [
       "1.0"
      ]
     },
     "execution_count": 13,
     "metadata": {},
     "output_type": "execute_result"
    }
   ],
   "source": [
    "eval_result = context_recall_chain(result)\n",
    "eval_result[\"context_recall_score\"]"
   ]
  },
  {
   "cell_type": "code",
   "execution_count": 14,
   "metadata": {},
   "outputs": [
    {
     "data": {
      "text/plain": [
       "1.0"
      ]
     },
     "execution_count": 14,
     "metadata": {},
     "output_type": "execute_result"
    }
   ],
   "source": [
    "from langchain.schema import Document\n",
    "\n",
    "fake_result = result.copy()\n",
    "fake_result[\"source_documents\"] = [Document(page_content=\"I love christmas\")]\n",
    "eval_result = context_recall_chain(fake_result)\n",
    "eval_result[\"context_recall_score\"]"
   ]
  },
  {
   "cell_type": "code",
   "execution_count": 12,
   "metadata": {},
   "outputs": [
    {
     "name": "stdout",
     "output_type": "stream",
     "text": [
      "evaluating...\n"
     ]
    },
    {
     "name": "stderr",
     "output_type": "stream",
     "text": [
      "100%|██████████| 1/1 [00:18<00:00, 18.88s/it]\n"
     ]
    },
    {
     "data": {
      "text/plain": [
       "[{'faithfulness_score': 0.6666666666666666},\n",
       " {'faithfulness_score': 1.0},\n",
       " {'faithfulness_score': 1.0},\n",
       " {'faithfulness_score': 1.0},\n",
       " {'faithfulness_score': 1.0},\n",
       " {'faithfulness_score': 1.0},\n",
       " {'faithfulness_score': 1.0},\n",
       " {'faithfulness_score': 1.0},\n",
       " {'faithfulness_score': 1.0},\n",
       " {'faithfulness_score': 1.0}]"
      ]
     },
     "execution_count": 12,
     "metadata": {},
     "output_type": "execute_result"
    }
   ],
   "source": [
    "# run the queries as a batch for efficiency\n",
    "predictions = qa_chain.batch(examples)\n",
    "\n",
    "# evaluate\n",
    "print(\"evaluating...\")\n",
    "r = faithfulness_chain.evaluate(examples, predictions)\n",
    "r"
   ]
  },
  {
   "cell_type": "code",
   "execution_count": 13,
   "metadata": {},
   "outputs": [
    {
     "name": "stdout",
     "output_type": "stream",
     "text": [
      "evaluating...\n"
     ]
    },
    {
     "name": "stderr",
     "output_type": "stream",
     "text": [
      "0it [00:00, ?it/s]\n"
     ]
    },
    {
     "data": {
      "text/plain": [
       "[]"
      ]
     },
     "execution_count": 13,
     "metadata": {},
     "output_type": "execute_result"
    }
   ],
   "source": [
    "# run the queries as a batch for efficiency\n",
    "predictions = qa_chain.batch(examples)\n",
    "\n",
    "print(\"evaluating...\")\n",
    "x = context_recall_chain.evaluate(examples, predictions)\n",
    "x"
   ]
  },
  {
   "cell_type": "code",
   "execution_count": 14,
   "metadata": {},
   "outputs": [
    {
     "name": "stdout",
     "output_type": "stream",
     "text": [
      "evaluating...\n"
     ]
    },
    {
     "name": "stderr",
     "output_type": "stream",
     "text": [
      "0it [00:00, ?it/s]\n"
     ]
    },
    {
     "data": {
      "text/plain": [
       "[]"
      ]
     },
     "execution_count": 14,
     "metadata": {},
     "output_type": "execute_result"
    }
   ],
   "source": [
    "# evaluate context recall\n",
    "print(\"evaluating...\")\n",
    "r = context_recall_chain.evaluate(examples, predictions)\n",
    "r"
   ]
  }
 ],
 "metadata": {
  "kernelspec": {
   "display_name": ".venv",
   "language": "python",
   "name": "python3"
  },
  "language_info": {
   "codemirror_mode": {
    "name": "ipython",
    "version": 3
   },
   "file_extension": ".py",
   "mimetype": "text/x-python",
   "name": "python",
   "nbconvert_exporter": "python",
   "pygments_lexer": "ipython3",
   "version": "3.11.2"
  }
 },
 "nbformat": 4,
 "nbformat_minor": 2
}

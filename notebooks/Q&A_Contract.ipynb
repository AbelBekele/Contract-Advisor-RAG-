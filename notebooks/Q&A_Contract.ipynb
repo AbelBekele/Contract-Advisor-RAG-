{
 "cells": [
  {
   "cell_type": "code",
   "execution_count": 1,
   "metadata": {},
   "outputs": [],
   "source": [
    "from dotenv import load_dotenv\n",
    "import os\n",
    "\n",
    "# Load the .env file\n",
    "load_dotenv()\n",
    "\n",
    "# Get the OPENAI_API_KEY\n",
    "os.environ[\"OPENAI_API_KEY\"] = os.getenv(\"OPENAI_API_KEY\")"
   ]
  },
  {
   "cell_type": "code",
   "execution_count": 2,
   "metadata": {},
   "outputs": [],
   "source": [
    "MILVUS_HOST = \"localhost\"\n",
    "MILVUS_PORT = \"19530\""
   ]
  },
  {
   "cell_type": "code",
   "execution_count": 3,
   "metadata": {},
   "outputs": [
    {
     "name": "stderr",
     "output_type": "stream",
     "text": [
      "Created a chunk of size 1567, which is longer than the specified 1024\n",
      "Created a chunk of size 1075, which is longer than the specified 1024\n",
      "Created a chunk of size 2084, which is longer than the specified 1024\n",
      "Created a chunk of size 1331, which is longer than the specified 1024\n",
      "Created a chunk of size 1177, which is longer than the specified 1024\n"
     ]
    }
   ],
   "source": [
    "from langchain.embeddings.openai import OpenAIEmbeddings\n",
    "from langchain.vectorstores import Milvus\n",
    "from langchain.document_loaders import WebBaseLoader\n",
    "from langchain.text_splitter import CharacterTextSplitter\n",
    "from langchain_community.document_loaders import TextLoader\n",
    "\n",
    "loader = TextLoader(\n",
    "    \"../data/Robinson_Advisory.txt\", \n",
    "    encoding=\"windows-1252\"\n",
    ")\n",
    "\n",
    "docs = loader.load()\n",
    "\n",
    "text_splitter = CharacterTextSplitter(chunk_size=1024, chunk_overlap=0)\n",
    "docs = text_splitter.split_documents(docs)\n"
   ]
  },
  {
   "cell_type": "code",
   "execution_count": 4,
   "metadata": {},
   "outputs": [
    {
     "name": "stderr",
     "output_type": "stream",
     "text": [
      "/root/Contract-Advisor-RAG-/.venv/lib/python3.11/site-packages/langchain_core/_api/deprecation.py:117: LangChainDeprecationWarning: The class `langchain_community.embeddings.openai.OpenAIEmbeddings` was deprecated in langchain-community 0.1.0 and will be removed in 0.2.0. An updated version of the class exists in the langchain-openai package and should be used instead. To use it run `pip install -U langchain-openai` and import as `from langchain_openai import OpenAIEmbeddings`.\n",
      "  warn_deprecated(\n"
     ]
    }
   ],
   "source": [
    "embeddings = OpenAIEmbeddings()\n",
    "\n",
    "vector_store = Milvus.from_documents(\n",
    "    docs,\n",
    "    embedding=embeddings,\n",
    "    connection_args={\"host\": MILVUS_HOST, \"port\": MILVUS_PORT}\n",
    ")\n"
   ]
  },
  {
   "cell_type": "code",
   "execution_count": 5,
   "metadata": {},
   "outputs": [
    {
     "name": "stderr",
     "output_type": "stream",
     "text": [
      "/root/Contract-Advisor-RAG-/.venv/lib/python3.11/site-packages/langchain_core/_api/deprecation.py:117: LangChainDeprecationWarning: The class `langchain_community.llms.openai.OpenAI` was deprecated in langchain-community 0.0.10 and will be removed in 0.2.0. An updated version of the class exists in the langchain-openai package and should be used instead. To use it run `pip install -U langchain-openai` and import as `from langchain_openai import OpenAI`.\n",
      "  warn_deprecated(\n",
      "/root/Contract-Advisor-RAG-/.venv/lib/python3.11/site-packages/langchain_core/_api/deprecation.py:117: LangChainDeprecationWarning: The function `__call__` was deprecated in LangChain 0.1.0 and will be removed in 0.2.0. Use invoke instead.\n",
      "  warn_deprecated(\n",
      "/root/Contract-Advisor-RAG-/.venv/lib/python3.11/site-packages/langchain/chains/llm.py:344: UserWarning: The apply_and_parse method is deprecated, instead pass an output parser directly to LLMChain.\n",
      "  warnings.warn(\n"
     ]
    },
    {
     "data": {
      "text/plain": [
       "{'output_text': ' Yes, the Agreement or any of its obligations can be assigned.'}"
      ]
     },
     "execution_count": 5,
     "metadata": {},
     "output_type": "execute_result"
    }
   ],
   "source": [
    "from langchain.chains.qa_with_sources import load_qa_with_sources_chain\n",
    "from langchain.llms import OpenAI\n",
    "\n",
    "\n",
    "chain = load_qa_with_sources_chain(OpenAI(temperature=0), chain_type=\"map_rerank\")\n",
    "query = \"Can the Agreement or any of its obligations be assigned?\"\n",
    "chain({\"input_documents\": docs, \"question\": query}, return_only_outputs=True)\n"
   ]
  },
  {
   "cell_type": "code",
   "execution_count": 6,
   "metadata": {},
   "outputs": [],
   "source": [
    "eval_questions = [\n",
    "    {\n",
    "        \"query\": \"Who are the parties to the Agreement and what are their defined names?\",\n",
    "        \"answer\": \"Cloud Investments Ltd. (“Company”) and Jack Robinson (“Advisor”)\"\n",
    "    },\n",
    "    {\n",
    "        \"query\": \"What is the termination notice?\",\n",
    "        \"answer\": \"According to section 4:14 days for convenience by both parties. The Company may terminate without notice if the Advisor refuses or cannot perform the Services or is in breach of any provision of this Agreement.\"\n",
    "    },\n",
    "    {\n",
    "        \"query\": \"What are the payments to the Advisor under the Agreement?\",\n",
    "        \"answer\": \"According to section 6: 1. Fees of $9 per hour up to a monthly limit of $1,500, 2. Workspace expense of $100 per month, 3. Other reasonable and actual expenses if approved by the company in writing and in advance.\"\n",
    "    },\n",
    "    {\n",
    "        \"query\": \"Can the Agreement or any of its obligations be assigned?\",\n",
    "        \"answer\": \"Under section 1.1 the Advisor can’t assign any of his obligations without the prior written consent of the Company, 2. Under section 9 the Advisor may not assign the Agreement and the Company may assign it, 3 Under section 9 of the Undertaking the Company may assign the Undertaking.\"\n",
    "    },\n",
    "    {\n",
    "        \"query\": \"Who owns the IP?\",\n",
    "        \"answer\": \"According to section 4 of the Undertaking (Appendix A), Any Work Product, upon creation, shall be fully and exclusively owned by the Company.\"\n",
    "    },\n",
    "    {\n",
    "        \"query\": \" Can the Advisor charge for meal time?\",\n",
    "        \"answer\": \"No. See Section 6.1, Billable Hour doesn’t include meals or travel time.\"\n",
    "    },\n",
    "    {\n",
    "        \"query\": \" Is there a non-compete obligation to the Advisor?\",\n",
    "        \"answer\": \"Yes. During the term of engagement with the Company and for a period of 12 months thereafter.\"\n",
    "    },\n",
    "    {\n",
    "        \"query\": \"In which street does the Advisor live?\",\n",
    "        \"answer\": \"1 Rabin st, Tel Aviv, Israel\"\n",
    "    },\n",
    "    {\n",
    "        \"query\": \"Is the Advisor entitled to social benefits?\",\n",
    "        \"answer\": \"No. According to section 8 of the Agreement, the Advisor is an independent consultant and shall not be entitled to any overtime pay, insurance, paid vacation, severance payments or similar fringe or employment benefits from the Company.\"\n",
    "    },\n",
    "    {\n",
    "        \"query\": \"What happens if the Advisor claims compensation based on employment relationship with the Company?\",\n",
    "        \"answer\": \"If the Advisor is determined to be an employee of the Company by a governmental authority, payments to the Advisor will be retroactively reduced so that 60% constitutes salary payments and 40% constitutes payment for statutory rights and benefits. The Company may offset any amounts due to the Advisor from any amounts payable under the Agreement. The Advisor must indemnify the Company for any losses or expenses incurred if an employer/employee relationship is determined to exist.\"\n",
    "    },\n",
    "]"
   ]
  },
  {
   "cell_type": "code",
   "execution_count": 12,
   "metadata": {},
   "outputs": [
    {
     "name": "stderr",
     "output_type": "stream",
     "text": [
      "/root/Contract-Advisor-RAG-/.venv/lib/python3.11/site-packages/langchain/chains/llm.py:344: UserWarning: The apply_and_parse method is deprecated, instead pass an output parser directly to LLMChain.\n",
      "  warnings.warn(\n"
     ]
    },
    {
     "data": {
      "text/plain": [
       "{'output_text': ' The parties to the Agreement are Cloud Investments Ltd. and Mr. Jack Robinson. Their defined names are \"Company\" and \"Advisor\" respectively.'}"
      ]
     },
     "execution_count": 12,
     "metadata": {},
     "output_type": "execute_result"
    }
   ],
   "source": [
    "result = chain({\"input_documents\": docs, \"question\": eval_questions[0][\"query\"]}, return_only_outputs=True)\n",
    "result"
   ]
  },
  {
   "cell_type": "code",
   "execution_count": 13,
   "metadata": {},
   "outputs": [],
   "source": [
    "from langchain_openai import OpenAI\n",
    "from langchain.prompts import PromptTemplate\n",
    "from langchain.chains import LLMChain\n",
    "from langchain.memory import ConversationBufferMemory\n",
    "from langchain.memory import ConversationBufferWindowMemory\n",
    "\n",
    "llm = OpenAI(temperature=0)\n",
    "# Notice that \"chat_history\" is present in the prompt template\n",
    "template = \"\"\"You are a chatbot designed to interpreate a contract and have a conversation with a human about the contract.\n",
    "\n",
    "Previous conversation:\n",
    "{chat_history}\n",
    "\n",
    "New human question: {question}\n",
    "Response:\"\"\"\n",
    "prompt = PromptTemplate.from_template(template)\n",
    "# Notice that we need to align the `memory_key`\n",
    "memory = ConversationBufferWindowMemory(memory_key=\"chat_history\", k=1)   \n",
    "# memory = ConversationBufferMemory(memory_key=\"chat_history\")\n",
    "conversation = LLMChain(\n",
    "    llm=llm,\n",
    "    prompt=prompt,\n",
    "    verbose=True,\n",
    "    memory=memory\n",
    ")"
   ]
  },
  {
   "cell_type": "code",
   "execution_count": 15,
   "metadata": {},
   "outputs": [
    {
     "name": "stdout",
     "output_type": "stream",
     "text": [
      "\n",
      "\n",
      "\u001b[1m> Entering new LLMChain chain...\u001b[0m\n",
      "Prompt after formatting:\n",
      "\u001b[32;1m\u001b[1;3mYou are a chatbot designed to interpreate a contract and have a conversation with a human about the contract.\n",
      "\n",
      "Previous conversation:\n",
      "Human: hi\n",
      "AI:  Hello! I am a chatbot designed to interpret and discuss contracts. How can I assist you?\n",
      "\n",
      "New human question: My name is Abel\n",
      "Response:\u001b[0m\n",
      "\n",
      "\u001b[1m> Finished chain.\u001b[0m\n"
     ]
    },
    {
     "data": {
      "text/plain": [
       "{'question': 'My name is Abel',\n",
       " 'chat_history': 'Human: hi\\nAI:  Hello! I am a chatbot designed to interpret and discuss contracts. How can I assist you?',\n",
       " 'text': ' Nice to meet you, Abel! How can I help you with your contract?'}"
      ]
     },
     "execution_count": 15,
     "metadata": {},
     "output_type": "execute_result"
    }
   ],
   "source": [
    "# Notice that we just pass in the `question` variables - `chat_history` gets populated by memory\n",
    "conversation({\"question\": \"My name is Abel\"})"
   ]
  },
  {
   "cell_type": "code",
   "execution_count": 16,
   "metadata": {},
   "outputs": [
    {
     "name": "stdout",
     "output_type": "stream",
     "text": [
      "\n",
      "\n",
      "\u001b[1m> Entering new LLMChain chain...\u001b[0m\n",
      "Prompt after formatting:\n",
      "\u001b[32;1m\u001b[1;3mYou are a chatbot designed to interpreate a contract and have a conversation with a human about the contract.\n",
      "\n",
      "Previous conversation:\n",
      "Human: hi\n",
      "AI:  Hello! I am a chatbot designed to interpret and discuss contracts. How can I assist you?\n",
      "Human: My name is Abel\n",
      "AI:  Nice to meet you, Abel! How can I help you with your contract?\n",
      "\n",
      "New human question: What is the termination notice?\n",
      "Response:\u001b[0m\n",
      "\n",
      "\u001b[1m> Finished chain.\u001b[0m\n"
     ]
    },
    {
     "data": {
      "text/plain": [
       "{'question': 'What is the termination notice?',\n",
       " 'chat_history': 'Human: hi\\nAI:  Hello! I am a chatbot designed to interpret and discuss contracts. How can I assist you?\\nHuman: My name is Abel\\nAI:  Nice to meet you, Abel! How can I help you with your contract?',\n",
       " 'text': ' The termination notice is a clause in the contract that outlines the process and requirements for ending the agreement between the parties involved. It typically includes the amount of notice that must be given, the reasons for termination, and any penalties or consequences for terminating the contract early. Is there anything specific you would like to know about the termination notice in your contract?'}"
      ]
     },
     "execution_count": 16,
     "metadata": {},
     "output_type": "execute_result"
    }
   ],
   "source": [
    "conversation({\"question\": \"What is the termination notice?\"})"
   ]
  },
  {
   "cell_type": "code",
   "execution_count": 17,
   "metadata": {},
   "outputs": [
    {
     "name": "stdout",
     "output_type": "stream",
     "text": [
      "\n",
      "\n",
      "\u001b[1m> Entering new LLMChain chain...\u001b[0m\n",
      "Prompt after formatting:\n",
      "\u001b[32;1m\u001b[1;3mYou are a chatbot designed to interpreate a contract and have a conversation with a human about the contract.\n",
      "\n",
      "Previous conversation:\n",
      "Human: hi\n",
      "AI:  Hello! I am a chatbot designed to interpret and discuss contracts. How can I assist you?\n",
      "Human: My name is Abel\n",
      "AI:  Nice to meet you, Abel! How can I help you with your contract?\n",
      "Human: What is the termination notice?\n",
      "AI:  The termination notice is a clause in the contract that outlines the process and requirements for ending the agreement between the parties involved. It typically includes the amount of notice that must be given, the reasons for termination, and any penalties or consequences for terminating the contract early. Is there anything specific you would like to know about the termination notice in your contract?\n",
      "\n",
      "New human question: What is my name?\n",
      "Response:\u001b[0m\n",
      "\n",
      "\u001b[1m> Finished chain.\u001b[0m\n"
     ]
    },
    {
     "data": {
      "text/plain": [
       "{'question': 'What is my name?',\n",
       " 'chat_history': 'Human: hi\\nAI:  Hello! I am a chatbot designed to interpret and discuss contracts. How can I assist you?\\nHuman: My name is Abel\\nAI:  Nice to meet you, Abel! How can I help you with your contract?\\nHuman: What is the termination notice?\\nAI:  The termination notice is a clause in the contract that outlines the process and requirements for ending the agreement between the parties involved. It typically includes the amount of notice that must be given, the reasons for termination, and any penalties or consequences for terminating the contract early. Is there anything specific you would like to know about the termination notice in your contract?',\n",
       " 'text': ' Your name is Abel, as you mentioned earlier. Is there anything else you would like to know about your contract?'}"
      ]
     },
     "execution_count": 17,
     "metadata": {},
     "output_type": "execute_result"
    }
   ],
   "source": [
    "conversation({\"question\": \"What is my name?\"})"
   ]
  }
 ],
 "metadata": {
  "kernelspec": {
   "display_name": ".venv",
   "language": "python",
   "name": "python3"
  },
  "language_info": {
   "codemirror_mode": {
    "name": "ipython",
    "version": 3
   },
   "file_extension": ".py",
   "mimetype": "text/x-python",
   "name": "python",
   "nbconvert_exporter": "python",
   "pygments_lexer": "ipython3",
   "version": "3.11.2"
  }
 },
 "nbformat": 4,
 "nbformat_minor": 2
}

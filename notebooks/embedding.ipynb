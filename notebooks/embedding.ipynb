{
 "cells": [
  {
   "cell_type": "code",
   "execution_count": 1,
   "metadata": {},
   "outputs": [],
   "source": [
    "from dotenv import load_dotenv\n",
    "import os\n",
    "\n",
    "# Load the .env file\n",
    "load_dotenv()\n",
    "\n",
    "# Get the OPENAI_API_KEY\n",
    "os.environ[\"OPENAI_API_KEY\"] = os.getenv(\"OPENAI_API_KEY\")"
   ]
  },
  {
   "cell_type": "code",
   "execution_count": 2,
   "metadata": {},
   "outputs": [],
   "source": [
    "from langchain.text_splitter import CharacterTextSplitter\n",
    "from langchain_community.document_loaders import TextLoader\n",
    "from langchain_community.vectorstores import Milvus\n",
    "from langchain_openai import OpenAIEmbeddings\n",
    "from langchain.chat_models import ChatOpenAI\n",
    "from IPython.display import display, Markdown\n",
    "from langchain.chains import RetrievalQA\n",
    "from langchain.indexes import VectorstoreIndexCreator\n",
    "from langchain.vectorstores import DocArrayInMemorySearch"
   ]
  },
  {
   "cell_type": "code",
   "execution_count": 3,
   "metadata": {},
   "outputs": [],
   "source": [
    "# account for deprecation of LLM model\n",
    "import datetime\n",
    "# Get the current date\n",
    "current_date = datetime.datetime.now().date()\n",
    "\n",
    "# Define the date after which the model should be set to \"gpt-3.5-turbo\"\n",
    "target_date = datetime.date(2024, 6, 12)\n",
    "\n",
    "# Set the model variable based on the current date\n",
    "if current_date > target_date:\n",
    "    llm_model = \"gpt-3.5-turbo\"\n",
    "else:\n",
    "    llm_model = \"gpt-3.5-turbo-0301\""
   ]
  },
  {
   "cell_type": "code",
   "execution_count": 4,
   "metadata": {},
   "outputs": [
    {
     "name": "stdout",
     "output_type": "stream",
     "text": [
      "Requirement already satisfied: pypdf in /root/Contract-Advisor-RAG-/.venv/lib/python3.11/site-packages (4.0.2)\n"
     ]
    }
   ],
   "source": [
    "# !pip install pypdf"
   ]
  },
  {
   "cell_type": "code",
   "execution_count": 4,
   "metadata": {},
   "outputs": [],
   "source": [
    "from langchain_community.document_loaders import PyPDFLoader\n",
    "\n",
    "loader = PyPDFLoader(\"../data/Robinson_Advisory.pdf\")\n",
    "pages = loader.load_and_split()"
   ]
  },
  {
   "cell_type": "code",
   "execution_count": 5,
   "metadata": {},
   "outputs": [
    {
     "data": {
      "text/plain": [
       "Document(page_content='ADVISORY SERVICES AGREEMENT  \\n \\nThis Advisory Services Agreement is entered into as of June  15th, 2023 (the “ Effective Date”), by and between \\nCloud Investments Ltd., ID 51 -426526- 3, an Israeli company (the \"Company \"), and Mr. Jack Robinson, \\nPassport Number 780055578, residing at 1 Rabin st, Tel Aviv, Israel, Email: jackrobinson@gmail.com \\n(\"Advisor \"). \\n \\nWhereas , Advisor ha s expertise and/or knowledge and/or relationships, which are relevant to the \\nCompany’s business and the Company has asked Advisor to provide it with certain Advisory \\nservices, as described in this Agreement; and  \\nWhereas ,  Advisor has agreed to provide the Company with such services, subject to the terms s et forth \\nin this Agreement.  \\n NOW THEREFORE THE PARTIES AGREE AS FOLLOWS:  \\n \\n1. Services:    \\n1.1 Advisor shall provide to the Company, as an independent contractor, software development  \\nservices,  and / or any other services as agreed by the parties from time to time  (the “Services ”). \\nAdvisor shall not appoint any sub- agents or delegates in connection with performance of the  \\nServices, nor assign any of his  obligations or rights hereunder without obtaining the prior written \\nconsent of the Company.  \\nWithout derogating from the foregoing, the Advisor shall not be required to provide the Services \\nfor a period of eighteen (18) days in each 12-month period.  \\n1.2 In performing the Services, Advisor shall devote his time, know -how, expertise, talent, experience  \\nand best efforts and attention to the provision of the Services, as shall be reasonably required by \\nthe Company. Advisor shall render the Services in a diligent manner and at a high professional \\nstandard  for the benefit of the Company and shall perform and discharge well and faithfully, with \\ndevotion, honesty and fidelity, his obligations hereunder.  \\n1.3 Advisor further agrees and undertake s to (i) comply with all the Company\\'s policies, procedures \\nand objectives, as in effect from time to time; (ii) adhere to any applicable law or provision, \\npertaining to his services; (iii) not take any action with the intention that the same will cause material damage to the good name of the Company; (iv) keep the contents of this Agreement \\nconfidential and not to disclose the existence or contents of this Agreement to any third party without the prior written consent of the Company. \\n \\n2. Time Tracking:  Advisor shall  provide the Company with a written report , in a format acceptable by \\nthe Company, setting forth the number of hours in which he provided the Services, on a daily basis, as \\nwell as an aggregated monthly report at the last day of each calendar month.  \\n3. No  Con flicts: Advisor represents that there is no contractual or other legal restr iction preventing or \\nlimiting him/her  from entering into this Agreement or performing any of his/her  obligations hereunder. \\nAdvisor shall immediately and without delay inform the C ompa ny of any affairs and/or matters that \\nmight constitute a conflict of interest with his/her services  to Company and/or the interests of the \\nCompany. Advisor agrees to indemnify, defend  and hold harmless the Company and its directors, \\nofficers and employees against all claims, liabilities, and costs, including reasonable attorneys\\' fees in connection with any breach by Advisor, of any obligations pursuant to a prior or existing engagement \\nwith any other third party, including without limitation other employers or clients.', metadata={'source': '../data/Robinson_Advisory.pdf', 'page': 0})"
      ]
     },
     "execution_count": 5,
     "metadata": {},
     "output_type": "execute_result"
    }
   ],
   "source": [
    "pages[0]"
   ]
  },
  {
   "cell_type": "code",
   "execution_count": 6,
   "metadata": {},
   "outputs": [],
   "source": [
    "from langchain.text_splitter import SpacyTextSplitter\n",
    "from langchain.text_splitter import CharacterTextSplitter\n",
    "\n",
    "with open(\"../data/Robinson_Advisory.txt\", encoding=\"windows-1252\") as f:\n",
    "    document = f.read()"
   ]
  },
  {
   "cell_type": "code",
   "execution_count": 7,
   "metadata": {},
   "outputs": [],
   "source": [
    "from langchain.text_splitter import NLTKTextSplitter\n",
    "\n",
    "text_splitter = NLTKTextSplitter(chunk_size=1000)"
   ]
  },
  {
   "cell_type": "code",
   "execution_count": 8,
   "metadata": {},
   "outputs": [],
   "source": [
    "\n",
    "text_splitter = CharacterTextSplitter.from_tiktoken_encoder(\n",
    "    chunk_size=100, chunk_overlap=0\n",
    ")\n",
    "documents = loader.load_and_split()\n",
    "# texts = text_splitter.split_text(document)\n",
    "docs = text_splitter.split_documents(documents)\n",
    "\n",
    "embeddings = OpenAIEmbeddings()"
   ]
  },
  {
   "cell_type": "code",
   "execution_count": 9,
   "metadata": {},
   "outputs": [],
   "source": [
    "vector_db = Milvus.from_documents(\n",
    "    docs,\n",
    "    embeddings,\n",
    "    collection_name=\"contract\",\n",
    "    connection_args={\"host\": \"127.0.0.1\", \"port\": \"19530\", \"database\": \"contract\"},\n",
    ")"
   ]
  },
  {
   "cell_type": "code",
   "execution_count": 10,
   "metadata": {},
   "outputs": [],
   "source": [
    "vector_db = Milvus(\n",
    "    embeddings,\n",
    "    connection_args={\"host\": \"127.0.0.1\", \"port\": \"19530\"},\n",
    "    collection_name=\"contract\",\n",
    ")"
   ]
  },
  {
   "cell_type": "code",
   "execution_count": 11,
   "metadata": {},
   "outputs": [],
   "source": [
    "query = \"Who are the parties to the Agreement and what are their defined names?\"\n",
    "docs = vector_db.similarity_search(query)"
   ]
  },
  {
   "cell_type": "code",
   "execution_count": 12,
   "metadata": {},
   "outputs": [
    {
     "data": {
      "text/plain": [
       "'4. Term: The term of this Agreement shall commence on the Effective Date and shall continue until terminated in accordance with the provisions herein (the \"Term\").  \\n\\n5. Termination: Either party, at any given time, may terminate this Agreement, for any reason whatsoever, with or without cause, upon fourteen (14) days’ prior written notice. Notwithstanding the above, the Company may terminate this Agreement immediately and without prior notice if Advisor refuses or is unable to perform the Services, or is in breach of any provision of this Agreement.'"
      ]
     },
     "execution_count": 12,
     "metadata": {},
     "output_type": "execute_result"
    }
   ],
   "source": [
    "docs[0].page_content"
   ]
  },
  {
   "cell_type": "code",
   "execution_count": 13,
   "metadata": {},
   "outputs": [
    {
     "name": "stderr",
     "output_type": "stream",
     "text": [
      "/root/Contract-Advisor-RAG-/.venv/lib/python3.11/site-packages/langchain_core/_api/deprecation.py:117: LangChainDeprecationWarning: The class `langchain_community.chat_models.openai.ChatOpenAI` was deprecated in langchain-community 0.0.10 and will be removed in 0.2.0. An updated version of the class exists in the langchain-openai package and should be used instead. To use it run `pip install -U langchain-openai` and import as `from langchain_openai import ChatOpenAI`.\n",
      "  warn_deprecated(\n"
     ]
    }
   ],
   "source": [
    "llm = ChatOpenAI(temperature = 0.0, model=llm_model)\n",
    "query = \"What is the termination notice?\"\n",
    "docs = vector_db.similarity_search(query)"
   ]
  },
  {
   "cell_type": "code",
   "execution_count": 14,
   "metadata": {},
   "outputs": [],
   "source": [
    "qdocs = \"\".join([docs[i].page_content for i in range(len(docs))])"
   ]
  },
  {
   "cell_type": "code",
   "execution_count": 15,
   "metadata": {},
   "outputs": [
    {
     "name": "stderr",
     "output_type": "stream",
     "text": [
      "/root/Contract-Advisor-RAG-/.venv/lib/python3.11/site-packages/langchain_core/_api/deprecation.py:117: LangChainDeprecationWarning: The function `call_as_llm` was deprecated in LangChain 0.1.7 and will be removed in 0.2.0. Use invoke instead.\n",
      "  warn_deprecated(\n"
     ]
    },
    {
     "data": {
      "text/markdown": [
       "The termination notice is fourteen (14) days' prior written notice."
      ],
      "text/plain": [
       "<IPython.core.display.Markdown object>"
      ]
     },
     "metadata": {},
     "output_type": "display_data"
    }
   ],
   "source": [
    "response = llm.call_as_llm(f\"{qdocs} Question: {query}\") \n",
    "display(Markdown(response))"
   ]
  },
  {
   "cell_type": "code",
   "execution_count": 40,
   "metadata": {},
   "outputs": [],
   "source": [
    "data = loader.load()\n",
    "llm = ChatOpenAI(temperature = 0.0, model=llm_model)\n",
    "qa = RetrievalQA.from_chain_type(\n",
    "    llm=llm, \n",
    "    chain_type=\"stuff\", \n",
    "    retriever=vector_db.as_retriever(), \n",
    "    verbose=True,\n",
    "    chain_type_kwargs = {\n",
    "        \"document_separator\": \"<<<<>>>>>\"\n",
    "    }\n",
    ")"
   ]
  },
  {
   "cell_type": "code",
   "execution_count": 41,
   "metadata": {},
   "outputs": [
    {
     "data": {
      "text/plain": [
       "Document(page_content='-  2- \\n \\n4. Term : The term of this Agreement shall commence on the Effective Date and shall continue until \\nterminated in accordance with the provisions herein (the \" Term \").   \\n \\n5. Term ination : Either party, at any given time, may terminate this Agreement, for any reason \\nwhatsoever, with or without cause, upon fourteen  (14) days’ prior written notice . Notwithstanding the \\nabove, the Company may terminate this Agreement immediately and without prior notice if Advisor \\nrefuses or is unable to perform the Services, or is in breach of any provision of this Agreement.  \\n \\n6. Compensation: \\n6.1 As full and sole consideration for the Services, and subject to the performance of the Services, the \\nCompany shall pay the Advisor , against an invoice provided to the Company by Advisor, hourly \\nfees at a rate of USD 9 (nine) per Billable Hour as defined below, limited to a maximum of USD \\n1,500 per month (the \" Fees \"). In addition, the Company shall pay the advisor USD 100 per month \\nto finance a workspace for the Advisor, as long as the Advisor actually hires a professional \\nworkspace (the “ Workspace Expense”). Advisor will not be entitled to any additional fees or \\nexpense reimbursement whatsoever, except as expressly provided for in this Agreement.  \\nBillable Hour:  Net time devoted to the provisioning of the Services, without calculating meals, \\ntravels or any other overhead time borne by the Advisor.  \\n6.2 The Fees  and the Workspace Expense for each month shall be payable by no later than ten (10) \\ndays from the be ginning of the following month, against receipt by the Company of a duly issued \\ntax invoice. \\n6.3 In addition, the Company shall reimburse Advisor for any reasonable and actual expenses incurred \\nby the  Advisor in connection with the performance of the Services, all in accordance with the \\nCompany’s policies as determined by the Board of Directors from time to time , and subject to \\nCompany\\'s prior written consent for each specific expense, before Advisor incurs such expenses . \\nAs a condition to reimbursement, Advisor shall provide the Company with copies of all invoices, \\nreceipts and other evidence of expenditures as required by Company policy. \\n6.4 Advisor shall be solely responsible for any income taxes  or other assessments made or imposed by \\nany governmental authority on Advisor with respect to the Services rendered and the compensation \\nreceived hereunder , and any and all expenses and costs of himself, employees, agents and \\nrepresentatives , including, without limitation, any salary, overtime, severance or social benefits  \\npayable thereto, and marketing costs incurred in connection with the performance of obligations \\nhereunder. \\n \\n7. Confidentiality , Non -Competition and IP Ownership  Undertaking : In connection with the \\nperformance of Advisor ’s obligations under this Agreement, th e Advisor shall execute a \\nConfidentiality , Non- Competition and IP Ownership Undertaking in the form attached hereto as \\nExhibit A .  \\n \\n8. Relationship of the Parties; Indemnification : The sole relationship between the Company and the \\nAdvisor shall be that of independent contractors. Advisor shall not be deemed to be, nor treated by the \\nCompany as, an employee of the Company. Advisor shall not receive nor be entitled to overtime pay , \\ninsurance, paid vacation, severance payments or similar fring e or employment benefits from the \\nCompany. Without derogating from the above, if it is adjudicated or otherwise determined by any \\ngovernmental authority that the Advisor and/or anyone on Advisor \\'s behalf, is, regardless of the terms \\nof this Agreement, an employee of the Company, then payments to Advisor hereunder shall be reduced \\neffective retroactively as of the beginning of the Term so that 60% of such payments shall constitute \\nsalary payments, and 40% of such payments shall constitute payment by the Company for all other ', metadata={'source': '../data/Robinson_Advisory.pdf', 'page': 1})"
      ]
     },
     "execution_count": 41,
     "metadata": {},
     "output_type": "execute_result"
    }
   ],
   "source": [
    "data[1]"
   ]
  },
  {
   "cell_type": "code",
   "execution_count": 42,
   "metadata": {},
   "outputs": [],
   "source": [
    "examples = [\n",
    "    {\n",
    "        \"query\": \"Who are the parties to the Agreement and what are their defined names?\",\n",
    "        \"answer\": \"Cloud Investments Ltd. (“Company”) and Jack Robinson (“Advisor”)\"\n",
    "    },\n",
    "    {\n",
    "        \"query\": \"What is the termination notice?\",\n",
    "        \"answer\": \"According to section 4:14 days for convenience by both parties. The Company may terminate without notice if the Advisor refuses or cannot perform the Services or is in breach of any provision of this Agreement.\"\n",
    "    },\n",
    "    {\n",
    "        \"query\": \"What are the payments to the Advisor under the Agreement?\",\n",
    "        \"answer\": \"According to section 6: 1. Fees of $9 per hour up to a monthly limit of $1,500, 2. Workspace expense of $100 per month, 3. Other reasonable and actual expenses if approved by the company in writing and in advance.\"\n",
    "    },\n",
    "    {\n",
    "        \"query\": \"Can the Agreement or any of its obligations be assigned?\",\n",
    "        \"answer\": \"Under section 1.1 the Advisor can’t assign any of his obligations without the prior written consent of the Company, 2. Under section 9 the Advisor may not assign the Agreement and the Company may assign it, 3 Under section 9 of the Undertaking the Company may assign the Undertaking.\"\n",
    "    },\n",
    "    {\n",
    "        \"query\": \"Who owns the IP?\",\n",
    "        \"answer\": \"According to section 4 of the Undertaking (Appendix A), Any Work Product, upon creation, shall be fully and exclusively owned by the Company.\"\n",
    "    },\n",
    "    {\n",
    "        \"query\": \" Can the Advisor charge for meal time?\",\n",
    "        \"answer\": \"No. See Section 6.1, Billable Hour doesn’t include meals or travel time.\"\n",
    "    },\n",
    "    {\n",
    "        \"query\": \" Is there a non-compete obligation to the Advisor?\",\n",
    "        \"answer\": \"Yes. During the term of engagement with the Company and for a period of 12 months thereafter.\"\n",
    "    },\n",
    "    {\n",
    "        \"query\": \"In which street does the Advisor live?\",\n",
    "        \"answer\": \"1 Rabin st, Tel Aviv, Israel\"\n",
    "    },\n",
    "    {\n",
    "        \"query\": \"Is the Advisor entitled to social benefits?\",\n",
    "        \"answer\": \"No. According to section 8 of the Agreement, the Advisor is an independent consultant and shall not be entitled to any overtime pay, insurance, paid vacation, severance payments or similar fringe or employment benefits from the Company.\"\n",
    "    },\n",
    "    {\n",
    "        \"query\": \"What happens if the Advisor claims compensation based on employment relationship with the Company?\",\n",
    "        \"answer\": \"If the Advisor is determined to be an employee of the Company by a governmental authority, payments to the Advisor will be retroactively reduced so that 60% constitutes salary payments and 40% constitutes payment for statutory rights and benefits. The Company may offset any amounts due to the Advisor from any amounts payable under the Agreement. The Advisor must indemnify the Company for any losses or expenses incurred if an employer/employee relationship is determined to exist.\"\n",
    "    },\n",
    "]"
   ]
  },
  {
   "cell_type": "code",
   "execution_count": 43,
   "metadata": {},
   "outputs": [],
   "source": [
    "import langchain\n",
    "langchain.debug = False"
   ]
  },
  {
   "cell_type": "code",
   "execution_count": 44,
   "metadata": {},
   "outputs": [
    {
     "name": "stdout",
     "output_type": "stream",
     "text": [
      "\n",
      "\n",
      "\u001b[1m> Entering new RetrievalQA chain...\u001b[0m\n"
     ]
    },
    {
     "name": "stdout",
     "output_type": "stream",
     "text": [
      "\n",
      "\u001b[1m> Finished chain.\u001b[0m\n"
     ]
    },
    {
     "data": {
      "text/plain": [
       "'The context provided does not include information about the parties to the Agreement or their defined names.'"
      ]
     },
     "execution_count": 44,
     "metadata": {},
     "output_type": "execute_result"
    }
   ],
   "source": [
    "qa.run(examples[0][\"query\"])"
   ]
  },
  {
   "cell_type": "code",
   "execution_count": 45,
   "metadata": {},
   "outputs": [
    {
     "name": "stdout",
     "output_type": "stream",
     "text": [
      "\n",
      "\n",
      "\u001b[1m> Entering new RetrievalQA chain...\u001b[0m\n"
     ]
    },
    {
     "name": "stdout",
     "output_type": "stream",
     "text": [
      "\n",
      "\u001b[1m> Finished chain.\u001b[0m\n",
      "\n",
      "\n",
      "\u001b[1m> Entering new RetrievalQA chain...\u001b[0m\n",
      "\n",
      "\u001b[1m> Finished chain.\u001b[0m\n",
      "\n",
      "\n",
      "\u001b[1m> Entering new RetrievalQA chain...\u001b[0m\n",
      "\n",
      "\u001b[1m> Finished chain.\u001b[0m\n",
      "\n",
      "\n",
      "\u001b[1m> Entering new RetrievalQA chain...\u001b[0m\n",
      "\n",
      "\u001b[1m> Finished chain.\u001b[0m\n",
      "\n",
      "\n",
      "\u001b[1m> Entering new RetrievalQA chain...\u001b[0m\n",
      "\n",
      "\u001b[1m> Finished chain.\u001b[0m\n",
      "\n",
      "\n",
      "\u001b[1m> Entering new RetrievalQA chain...\u001b[0m\n",
      "\n",
      "\u001b[1m> Finished chain.\u001b[0m\n",
      "\n",
      "\n",
      "\u001b[1m> Entering new RetrievalQA chain...\u001b[0m\n",
      "\n",
      "\u001b[1m> Finished chain.\u001b[0m\n",
      "\n",
      "\n",
      "\u001b[1m> Entering new RetrievalQA chain...\u001b[0m\n",
      "\n",
      "\u001b[1m> Finished chain.\u001b[0m\n",
      "\n",
      "\n",
      "\u001b[1m> Entering new RetrievalQA chain...\u001b[0m\n",
      "\n",
      "\u001b[1m> Finished chain.\u001b[0m\n"
     ]
    }
   ],
   "source": [
    "predictions = qa.apply(examples)"
   ]
  },
  {
   "cell_type": "code",
   "execution_count": 46,
   "metadata": {},
   "outputs": [],
   "source": [
    "from langchain.evaluation.qa import QAEvalChain"
   ]
  },
  {
   "cell_type": "code",
   "execution_count": 47,
   "metadata": {},
   "outputs": [],
   "source": [
    "llm = ChatOpenAI(temperature=0, model=llm_model)\n",
    "eval_chain = QAEvalChain.from_llm(llm)"
   ]
  },
  {
   "cell_type": "code",
   "execution_count": 48,
   "metadata": {},
   "outputs": [],
   "source": [
    "graded_outputs = eval_chain.evaluate(examples, predictions)"
   ]
  },
  {
   "cell_type": "code",
   "execution_count": 51,
   "metadata": {},
   "outputs": [
    {
     "name": "stdout",
     "output_type": "stream",
     "text": [
      "Example 0:\n",
      "Question: Who are the parties to the Agreement and what are their defined names?\n",
      "Real Answer: Cloud Investments Ltd. (“Company”) and Jack Robinson (“Advisor”)\n",
      "Predicted Answer: The context provided does not include information about the parties to the Agreement or their defined names.\n",
      "Predicted Grade: INCORRECT\n",
      "\n",
      "Example 1:\n",
      "Question: What is the termination notice?\n",
      "Real Answer: According to section 4:14 days for convenience by both parties. The Company may terminate without notice if the Advisor refuses or cannot perform the Services or is in breach of any provision of this Agreement.\n",
      "Predicted Answer: The termination notice is fourteen (14) days' prior written notice, which either party can give at any time, for any reason whatsoever, with or without cause, to terminate the Agreement. However, the Company may terminate the Agreement immediately and without prior notice if the Advisor refuses or is unable to perform the Services or is in breach of any provision of the Agreement.\n",
      "Predicted Grade: CORRECT\n",
      "\n",
      "Example 2:\n",
      "Question: What are the payments to the Advisor under the Agreement?\n",
      "Real Answer: According to section 6: 1. Fees of $9 per hour up to a monthly limit of $1,500, 2. Workspace expense of $100 per month, 3. Other reasonable and actual expenses if approved by the company in writing and in advance.\n",
      "Predicted Answer: As per the Agreement, the Company shall pay the Advisor hourly fees at a rate of USD 9 per Billable Hour, limited to a maximum of USD 1,500 per month. In addition, the Company shall pay the advisor USD 100 per month to finance a workspace for the Advisor. The Fees and the Workspace Expense for each month shall be payable by no later than ten (10) days from the beginning of the following month, against receipt by the Company of a duly issued tax invoice. The Advisor will not be entitled to any additional fees or expense reimbursement except as expressly provided for in this Agreement.\n",
      "Predicted Grade: CORRECT\n",
      "\n",
      "Example 3:\n",
      "Question: Can the Agreement or any of its obligations be assigned?\n",
      "Real Answer: Under section 1.1 the Advisor can’t assign any of his obligations without the prior written consent of the Company, 2. Under section 9 the Advisor may not assign the Agreement and the Company may assign it, 3 Under section 9 of the Undertaking the Company may assign the Undertaking.\n",
      "Predicted Answer: According to section 9 of the Agreement, the Advisor may not assign, sell, delegate or transfer the Agreement for any reason whatsoever. However, the Company may assign the Agreement to a successor of all or substantially all of its assets or business, provided the assignee has assumed the Company’s obligations under this Agreement.\n",
      "Predicted Grade: CORRECT\n",
      "\n",
      "Example 4:\n",
      "Question: Who owns the IP?\n",
      "Real Answer: According to section 4 of the Undertaking (Appendix A), Any Work Product, upon creation, shall be fully and exclusively owned by the Company.\n",
      "Predicted Answer: According to section 4 of the Confidentiality, Non-Compete and IP Ownership Undertaking in the Advisory Service Agreement, any Work Product created by the Advisor shall be fully and exclusively owned by the Company. The Advisor shall not obtain any rights in the Work Product, including moral rights and/or rights for royalties or other consideration under any applicable law, and shall not be entitled to any compensation with respect to the Services, which was not specifically agreed, in writing, between the Advisor and the Company.\n",
      "Predicted Grade: CORRECT\n",
      "\n",
      "Example 5:\n",
      "Question:  Can the Advisor charge for meal time?\n",
      "Real Answer: No. See Section 6.1, Billable Hour doesn’t include meals or travel time.\n",
      "Predicted Answer: No, the Advisor cannot charge for meal time. The Billable Hour is defined as net time devoted to the provisioning of the Services, without calculating meals, travels or any other overhead time borne by the Advisor.\n",
      "Predicted Grade: CORRECT\n",
      "\n",
      "Example 6:\n",
      "Question: In which street does the Advisor live?\n",
      "Real Answer: 1 Rabin st, Tel Aviv, Israel\n",
      "Predicted Answer: The Advisor lives at 1 Rabin st, Tel Aviv, Israel, according to the context.\n",
      "Predicted Grade: CORRECT\n",
      "\n",
      "Example 7:\n",
      "Question: Is the Advisor entitled to social benefits?\n",
      "Real Answer: No. According to section 8 of the Agreement, the Advisor is an independent consultant and shall not be entitled to any overtime pay, insurance, paid vacation, severance payments or similar fringe or employment benefits from the Company.\n",
      "Predicted Answer: No, according to section 6.4 of the Advisory Services Agreement, the Advisor is solely responsible for any expenses and costs of himself, employees, agents, and representatives, including any salary, overtime, severance, or social benefits payable thereto. Therefore, the Advisor is not entitled to social benefits from the Company.\n",
      "Predicted Grade: CORRECT\n",
      "\n",
      "Example 8:\n",
      "Question: What happens if the Advisor claims compensation based on employment relationship with the Company?\n",
      "Real Answer: If the Advisor is determined to be an employee of the Company by a governmental authority, payments to the Advisor will be retroactively reduced so that 60% constitutes salary payments and 40% constitutes payment for statutory rights and benefits. The Company may offset any amounts due to the Advisor from any amounts payable under the Agreement. The Advisor must indemnify the Company for any losses or expenses incurred if an employer/employee relationship is determined to exist.\n",
      "Predicted Answer: If it is determined by any governmental authority that the Advisor is an employee of the Company, then payments to the Advisor will be reduced retroactively as of the beginning of the Term so that 60% of such payments shall constitute salary payments, and 40% of such payments shall constitute payment by the Company for all other Advisor statutory rights and benefits as an employee of the Company throughout the Term. The Advisor shall also indemnify the Company for any loss or expenses incurred by the Company if it is determined that an alleged employer/employee relationship existed between the Advisor and the Company.\n",
      "Predicted Grade: CORRECT\n",
      "\n"
     ]
    }
   ],
   "source": [
    "for i, eg in enumerate(examples):\n",
    "    print(f\"Example {i}:\")\n",
    "    print(\"Question: \" + predictions[i]['query'])\n",
    "    print(\"Real Answer: \" + predictions[i]['answer'])\n",
    "    print(\"Predicted Answer: \" + predictions[i]['result'])\n",
    "    print(\"Predicted Grade: \" + graded_outputs[i]['results'])\n",
    "    print()"
   ]
  },
  {
   "cell_type": "code",
   "execution_count": 49,
   "metadata": {},
   "outputs": [
    {
     "name": "stdout",
     "output_type": "stream",
     "text": [
      "The length of the list is: 9\n",
      "{'results': 'INCORRECT'}\n",
      "{'results': 'CORRECT'}\n",
      "{'results': 'CORRECT'}\n",
      "{'results': 'CORRECT'}\n",
      "{'results': 'CORRECT'}\n",
      "{'results': 'CORRECT'}\n",
      "{'results': 'CORRECT'}\n",
      "{'results': 'CORRECT'}\n",
      "{'results': 'CORRECT'}\n"
     ]
    }
   ],
   "source": [
    "length = len(graded_outputs)\n",
    "print(f\"The length of the list is: {length}\")\n",
    "\n",
    "for i in range(length):\n",
    "    print(graded_outputs[i])"
   ]
  }
 ],
 "metadata": {
  "kernelspec": {
   "display_name": ".venv",
   "language": "python",
   "name": "python3"
  },
  "language_info": {
   "codemirror_mode": {
    "name": "ipython",
    "version": 3
   },
   "file_extension": ".py",
   "mimetype": "text/x-python",
   "name": "python",
   "nbconvert_exporter": "python",
   "pygments_lexer": "ipython3",
   "version": "3.11.2"
  }
 },
 "nbformat": 4,
 "nbformat_minor": 2
}
